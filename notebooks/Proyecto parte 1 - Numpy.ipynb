{
  "nbformat": 4,
  "nbformat_minor": 0,
  "metadata": {
    "colab": {
      "provenance": []
    },
    "kernelspec": {
      "name": "python3",
      "display_name": "Python 3"
    },
    "language_info": {
      "name": "python"
    }
  },
  "cells": [
    {
      "cell_type": "code",
      "execution_count": 112,
      "metadata": {
        "colab": {
          "base_uri": "https://localhost:8080/"
        },
        "id": "GsQA2_Hwl1o_",
        "outputId": "88ee3388-74ec-4e5f-f118-17e2818077e5"
      },
      "outputs": [
        {
          "output_type": "stream",
          "name": "stdout",
          "text": [
            "fatal: destination path 'retail-sales-analysis' already exists and is not an empty directory.\n",
            "[( 2, '2023-02-27', 'CUST002', 'Female', 26, 'Clothing', 2, 500., 1000.)\n",
            " ( 3, '2023-01-13', 'CUST003', 'Male', 50, 'Electronics', 1,  30.,   30.)\n",
            " ( 4, '2023-05-21', 'CUST004', 'Male', 37, 'Clothing', 1, 500.,  500.)\n",
            " ( 5, '2023-05-06', 'CUST005', 'Male', 30, 'Beauty', 2,  50.,  100.)\n",
            " ( 6, '2023-04-25', 'CUST006', 'Female', 45, 'Beauty', 1,  30.,   30.)\n",
            " ( 7, '2023-03-13', 'CUST007', 'Male', 46, 'Clothing', 2,  25.,   50.)\n",
            " ( 8, '2023-02-22', 'CUST008', 'Male', 30, 'Electronics', 4,  25.,  100.)\n",
            " ( 9, '2023-12-13', 'CUST009', 'Male', 63, 'Electronics', 2, 300.,  600.)\n",
            " (10, '2023-10-07', 'CUST010', 'Female', 52, 'Clothing', 4,  50.,  200.)]\n"
          ]
        }
      ],
      "source": [
        "!git clone https://github.com/hypatiagarcia/retail-sales-analysis.git\n",
        "import numpy as np\n",
        "\n",
        "def cargar_datos(ruta_archivo):\n",
        "    dtype_csv = [\n",
        "        ('Transaction_ID', 'i4'),\n",
        "        ('Date', 'datetime64[D]'),\n",
        "        ('Customer_ID', 'U10'),\n",
        "        ('Gender', 'U6'),\n",
        "        ('Age', 'i4'),\n",
        "        ('Product_Category', 'U20'),\n",
        "        ('Quantity', 'i4'),\n",
        "        ('Price_per_Unit', 'f4'),\n",
        "        ('Total_Amount', 'f4')\n",
        "    ]\n",
        "\n",
        "    datos = np.genfromtxt(ruta_archivo, delimiter=',', dtype= dtype_csv, skip_header=1)\n",
        "    return datos\n",
        "\n",
        "if __name__ == \"__main__\":\n",
        "    ruta_archivo = 'data/retail_sales_dataset.csv'\n",
        "    datos = cargar_datos(ruta_archivo)\n",
        "    print(datos[1:10])\n"
      ]
    },
    {
      "cell_type": "markdown",
      "source": [
        "**Exploración de Datos**"
      ],
      "metadata": {
        "id": "v8r8LcxX5w6M"
      }
    },
    {
      "cell_type": "markdown",
      "source": [
        "Calcula el total de ventas por producto y por tienda:"
      ],
      "metadata": {
        "id": "YsgYn1cA59JP"
      }
    },
    {
      "cell_type": "code",
      "source": [
        "#el valor total de las ventas teniendo en cuenta el producto\n",
        "def total_ventas_producto(datos):\n",
        "  total_ventas = {}\n",
        "  productos = np.unique(datos['Product_Category'])\n",
        "\n",
        "  for i in productos:\n",
        "    ventas_producto = datos['Total_Amount'][datos['Product_Category'] == i]\n",
        "    total_ventas[i] = int(np.sum(ventas_producto))\n",
        "  return total_ventas\n",
        "\n",
        "#el valor total de las ventas teniendo en cuenta la tienda\n",
        " #ESTA OPERACION NO SE PUEDE LLEVAR A CABO YA QUE LOS DATOS DE TIENDAS NO FUERON INCLUIDOS\n",
        "print(total_ventas_producto(datos))"
      ],
      "metadata": {
        "colab": {
          "base_uri": "https://localhost:8080/"
        },
        "id": "Epj-jfIU6DWs",
        "outputId": "a99d4803-de14-49e2-f0c7-98f569588fe5"
      },
      "execution_count": 157,
      "outputs": [
        {
          "output_type": "stream",
          "name": "stdout",
          "text": [
            "{'Beauty': 143515, 'Clothing': 155580, 'Electronics': 156905}\n"
          ]
        }
      ]
    },
    {
      "cell_type": "markdown",
      "source": [
        "Calcula el promedio de ventas diarias por producto y por tienda."
      ],
      "metadata": {
        "id": "0k0lJf1gMe5S"
      }
    },
    {
      "cell_type": "code",
      "source": [
        "#el promedio de ventas diarias por producto\n",
        "def promedio_ventas_diarias_producto(datos):\n",
        "  total_ventas = total_ventas_producto(datos)\n",
        "  promedio_ventas_fecha = {}\n",
        "  for i in total_ventas:\n",
        "    promedio_ventas_fecha[i] = np.mean(total_ventas[i]) / len(datos['Date'])\n",
        "  return(promedio_ventas_fecha)\n",
        "\n",
        "#el promedio de ventas diarias por tiendas\n",
        "#ESTA OPERACION NO SE PUEDE LLEVAR A CABO YA QUE LOS DATOS DE TIENDAS NO FUERON INCLUIDOS\n",
        "\n",
        "print(promedio_ventas_diarias_producto(datos))"
      ],
      "metadata": {
        "colab": {
          "base_uri": "https://localhost:8080/"
        },
        "id": "UH8XOCzTMfuH",
        "outputId": "fa96805d-855c-43e7-ccf9-9d9fa4ef2589"
      },
      "execution_count": 158,
      "outputs": [
        {
          "output_type": "stream",
          "name": "stdout",
          "text": [
            "{'Beauty': 143.515, 'Clothing': 155.58, 'Electronics': 156.905}\n"
          ]
        }
      ]
    },
    {
      "cell_type": "markdown",
      "source": [
        "Identifica los productos con mayores y menores ventas."
      ],
      "metadata": {
        "id": "OMrePsRSfLeD"
      }
    },
    {
      "cell_type": "code",
      "source": [
        "def encontrar_producto_mayor_menor_ventas(datos):\n",
        "  total_ventas = list(total_ventas_producto(datos).values())\n",
        "\n",
        "  producto_mayor_ventas = np.argmax(total_ventas)\n",
        "  producto_menor_ventas = np.argmin(total_ventas)\n",
        "\n",
        "  return total_ventas[producto_mayor_ventas], total_ventas[producto_menor_ventas], producto_mayor_ventas, producto_menor_ventas\n",
        "\n",
        "print(encontrar_producto_mayor_menor_ventas(datos))"
      ],
      "metadata": {
        "colab": {
          "base_uri": "https://localhost:8080/"
        },
        "id": "eITjDn9pfOJg",
        "outputId": "f0c5a079-e649-4937-c805-1030ee7d4ba3"
      },
      "execution_count": 206,
      "outputs": [
        {
          "output_type": "stream",
          "name": "stdout",
          "text": [
            "(156905, 143515, 2, 0)\n"
          ]
        }
      ]
    },
    {
      "cell_type": "markdown",
      "source": [
        "Manipulación de Datos"
      ],
      "metadata": {
        "id": "H-ZD4FN3j_y5"
      }
    },
    {
      "cell_type": "markdown",
      "source": [
        "# Resumen Final"
      ],
      "metadata": {
        "id": "rqLenDBe0Cwp"
      }
    },
    {
      "cell_type": "markdown",
      "source": [
        "El valor total de las ventas teniendo en cuenta el producto:"
      ],
      "metadata": {
        "id": "Y3Pp33Gj0TFE"
      }
    },
    {
      "cell_type": "code",
      "source": [
        "#Filtra los datos para mostrar solo las ventas de un producto específico.\n",
        "for i in total_ventas_producto(datos):\n",
        "  print(f\"El producto {i} tiene ventas de: {total_ventas_producto(datos)[i]}$\")"
      ],
      "metadata": {
        "colab": {
          "base_uri": "https://localhost:8080/"
        },
        "id": "rtCJkI-X0WxT",
        "outputId": "8e5b9843-6be4-43a6-c1a2-4b33fe94e152"
      },
      "execution_count": 188,
      "outputs": [
        {
          "output_type": "stream",
          "name": "stdout",
          "text": [
            "El producto Beauty tiene ventas de: 143515$\n",
            "El producto Clothing tiene ventas de: 155580$\n",
            "El producto Electronics tiene ventas de: 156905$\n"
          ]
        }
      ]
    },
    {
      "cell_type": "markdown",
      "source": [
        "El promedio de ventas diarias por producto:"
      ],
      "metadata": {
        "id": "yZYWStCY0odr"
      }
    },
    {
      "cell_type": "code",
      "source": [
        "for i in promedio_ventas_diarias_producto(datos):\n",
        "  print(f\"El producto {i} tiene un promedio de ventas de: {promedio_ventas_diarias_producto(datos)[i]}$ por dia\")"
      ],
      "metadata": {
        "colab": {
          "base_uri": "https://localhost:8080/"
        },
        "id": "9_e4FWNL0xue",
        "outputId": "91335e0a-34d8-412f-f91c-8ab80f1bc1ca"
      },
      "execution_count": 189,
      "outputs": [
        {
          "output_type": "stream",
          "name": "stdout",
          "text": [
            "El producto Beauty tiene un promedio de ventas de: 143.515$ por dia\n",
            "El producto Clothing tiene un promedio de ventas de: 155.58$ por dia\n",
            "El producto Electronics tiene un promedio de ventas de: 156.905$ por dia\n"
          ]
        }
      ]
    },
    {
      "cell_type": "markdown",
      "source": [
        "Productos con mayores y menores ventas"
      ],
      "metadata": {
        "id": "EthbS8T61Dl_"
      }
    },
    {
      "source": [
        #obtener las ventas totales por producto en forma de un diccionario, donde las claves son los nombres de los productos
        #los valores son las ventas totales
        ventas_totales = total_ventas_producto(datos)
        producto_ventas_info = encontrar_producto_mayor_menor_ventas(datos)

        # Utilizar los índices obtenidos de la función anterior para encontrar los nombres de los productos
        producto_mayor_ventas = list(ventas_totales.keys())[producto_ventas_info[2]]  
        print(f"El genero de producto con mayor dinero generado en ventas es {producto_mayor_ventas} con {producto_ventas_info[0]}$ \n")

        producto_menor_ventas = list(ventas_totales.keys())[producto_ventas_info[3]]  
        print(f"El genero de producto con menor dinero generado en ventas es {producto_menor_ventas} con {producto_ventas_info[1]}$ \n")
      ],
      "cell_type": "code",
      "metadata": {
        "colab": {
          "base_uri": "https://localhost:8080/"
        },
        "id": "u4zHYpp66LYB",
        "outputId": "6a6870c1-8f5e-4918-9cd9-f7b8261ccc5f"
      },
      "execution_count": 219,
      "outputs": [
        {
          "output_type": "stream",
          "name": "stdout",
          "text": [
            "El genero de producto con mayor dinero generado en ventas es Electronics con 156905$ \n",
            "\n",
            "El genero de producto con menor dinero generado en ventas es Beauty con 143515$ \n",
            "\n"
          ]
        }
      ]
    }
  ]
}
